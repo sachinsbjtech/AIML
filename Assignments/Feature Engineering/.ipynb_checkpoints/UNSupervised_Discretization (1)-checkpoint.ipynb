{
 "cells": [
  {
   "cell_type": "code",
   "execution_count": 15,
   "metadata": {},
   "outputs": [],
   "source": [
    "new_list = [53, 56, 57, 63, 66, 67, 67, 67, 68, 69, 70, 70, 70, 70, 72, 73, 75, 75, 76, 76, 78, 79,80,81]\n",
    "import pandas\n",
    "# equi-frequent bins\n",
    "# print(pandas.qcut(new_list,q=3))\n",
    "ef_bins, intervals = pandas.qcut(new_list,q=3,retbins=True)"
   ]
  },
  {
   "cell_type": "code",
   "execution_count": 11,
   "metadata": {},
   "outputs": [],
   "source": [
    "# equi-width\n",
    "# print(pandas.cut(new_list,bins=3))\n",
    "ew_bins, intervals = pandas.cut(new_list,bins=3,right=False,retbins=True)"
   ]
  },
  {
   "cell_type": "code",
   "execution_count": 12,
   "metadata": {},
   "outputs": [],
   "source": [
    "df = pandas.DataFrame()\n",
    "df['original'] = new_list\n",
    "df['ef_discretized'] = ef_bins\n",
    "df['ew_discretized'] = ew_bins"
   ]
  },
  {
   "cell_type": "code",
   "execution_count": 13,
   "metadata": {},
   "outputs": [
    {
     "data": {
      "text/html": [
       "<div>\n",
       "<style scoped>\n",
       "    .dataframe tbody tr th:only-of-type {\n",
       "        vertical-align: middle;\n",
       "    }\n",
       "\n",
       "    .dataframe tbody tr th {\n",
       "        vertical-align: top;\n",
       "    }\n",
       "\n",
       "    .dataframe thead th {\n",
       "        text-align: right;\n",
       "    }\n",
       "</style>\n",
       "<table border=\"1\" class=\"dataframe\">\n",
       "  <thead>\n",
       "    <tr style=\"text-align: right;\">\n",
       "      <th></th>\n",
       "      <th>original</th>\n",
       "      <th>ef_discretized</th>\n",
       "      <th>ew_discretized</th>\n",
       "    </tr>\n",
       "  </thead>\n",
       "  <tbody>\n",
       "    <tr>\n",
       "      <th>0</th>\n",
       "      <td>53</td>\n",
       "      <td>(52.999, 67.667]</td>\n",
       "      <td>[53.0, 62.333)</td>\n",
       "    </tr>\n",
       "    <tr>\n",
       "      <th>1</th>\n",
       "      <td>56</td>\n",
       "      <td>(52.999, 67.667]</td>\n",
       "      <td>[53.0, 62.333)</td>\n",
       "    </tr>\n",
       "    <tr>\n",
       "      <th>2</th>\n",
       "      <td>57</td>\n",
       "      <td>(52.999, 67.667]</td>\n",
       "      <td>[53.0, 62.333)</td>\n",
       "    </tr>\n",
       "    <tr>\n",
       "      <th>3</th>\n",
       "      <td>63</td>\n",
       "      <td>(52.999, 67.667]</td>\n",
       "      <td>[62.333, 71.667)</td>\n",
       "    </tr>\n",
       "    <tr>\n",
       "      <th>4</th>\n",
       "      <td>66</td>\n",
       "      <td>(52.999, 67.667]</td>\n",
       "      <td>[62.333, 71.667)</td>\n",
       "    </tr>\n",
       "  </tbody>\n",
       "</table>\n",
       "</div>"
      ],
      "text/plain": [
       "   original    ef_discretized    ew_discretized\n",
       "0        53  (52.999, 67.667]    [53.0, 62.333)\n",
       "1        56  (52.999, 67.667]    [53.0, 62.333)\n",
       "2        57  (52.999, 67.667]    [53.0, 62.333)\n",
       "3        63  (52.999, 67.667]  [62.333, 71.667)\n",
       "4        66  (52.999, 67.667]  [62.333, 71.667)"
      ]
     },
     "execution_count": 13,
     "metadata": {},
     "output_type": "execute_result"
    }
   ],
   "source": [
    "df.head()"
   ]
  },
  {
   "cell_type": "code",
   "execution_count": null,
   "metadata": {},
   "outputs": [],
   "source": []
  }
 ],
 "metadata": {
  "kernelspec": {
   "display_name": "Python 3",
   "language": "python",
   "name": "python3"
  },
  "language_info": {
   "codemirror_mode": {
    "name": "ipython",
    "version": 3
   },
   "file_extension": ".py",
   "mimetype": "text/x-python",
   "name": "python",
   "nbconvert_exporter": "python",
   "pygments_lexer": "ipython3",
   "version": "3.7.3"
  }
 },
 "nbformat": 4,
 "nbformat_minor": 2
}
