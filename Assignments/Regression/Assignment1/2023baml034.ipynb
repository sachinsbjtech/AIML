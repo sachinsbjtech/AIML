{
 "cells": [
  {
   "cell_type": "code",
   "execution_count": 12,
   "id": "12c16d41",
   "metadata": {
    "tags": []
   },
   "outputs": [],
   "source": [
    "import numpy as np"
   ]
  },
  {
   "cell_type": "code",
   "execution_count": 13,
   "id": "464e7343",
   "metadata": {
    "tags": []
   },
   "outputs": [
    {
     "name": "stdout",
     "output_type": "stream",
     "text": [
      "X =  -7.999999999999998 , Y =  -16.999999999999996 , Z =  15.999999999999996\n"
     ]
    }
   ],
   "source": [
    "#Question 2a\n",
    "\n",
    "A = np.array([[6,2,-5],[3,3,-2],[7,5,-3]])\n",
    "B = np.array([13,13,26])\n",
    "# Approach used here (A-1 is A inverse)\n",
    "# (A).(A-1).X = B.(A-1)\n",
    "# A. (A-1) = I --- identity matrix \n",
    "# X = B.(A-1)\n",
    "\n",
    "# find A inverse\n",
    "C = np.linalg.inv(A)\n",
    "# Find Dot product i.e B.(A-1)\n",
    "D = np.dot(B,C)\n",
    "print(\"X = \",D[0],\", Y = \",D[1],\", Z = \",D[2])"
   ]
  },
  {
   "cell_type": "code",
   "execution_count": 14,
   "id": "cbb796ab",
   "metadata": {
    "tags": []
   },
   "outputs": [
    {
     "name": "stdout",
     "output_type": "stream",
     "text": [
      "Rank of Matrix M =  3\n"
     ]
    }
   ],
   "source": [
    "#Question 2b\n",
    "# Rank of Submatrix 'A' (r X r) is 'r' when determinant is non zero i.e |A| != 0 and \n",
    "# there exits submatrix 'B' ((r+1) X (r+1)) whose determinant is zero i.e. |B| = 0\n",
    "\n",
    "# my roll ID \"2023baml034\"\n",
    "M = np.array([[0,2,-3],[1,3,6],[4,5,4]])\n",
    "r = np.linalg.matrix_rank(M)\n",
    "print(\"Rank of Matrix M = \", r)"
   ]
  },
  {
   "cell_type": "code",
   "execution_count": 29,
   "id": "a9f11890",
   "metadata": {
    "tags": []
   },
   "outputs": [
    {
     "name": "stdout",
     "output_type": "stream",
     "text": [
      "Coefficient value =  [7891.23443542]\n",
      "Intercept value =  27369.018118207532\n",
      "Mean Square Error =  72694014.1545995\n",
      "Root Mean Square Error =  8526.078474574317\n",
      "<class 'pandas.core.frame.DataFrame'>\n",
      "RangeIndex: 60 entries, 0 to 59\n",
      "Data columns (total 1 columns):\n",
      " #   Column           Non-Null Count  Dtype  \n",
      "---  ------           --------------  -----  \n",
      " 0   YearsExperience  60 non-null     float64\n",
      "dtypes: float64(1)\n",
      "memory usage: 612.0 bytes\n"
     ]
    },
    {
     "data": {
      "image/png": "[encoded data removed]",
      "text/plain": [
       "<Figure size 640x480 with 1 Axes>"
      ]
     },
     "metadata": {},
     "output_type": "display_data"
    }
   ],
   "source": [
    "#Question 3\n",
    "import pandas as pd\n",
    "import matplotlib.pyplot as plt\n",
    "from sklearn.model_selection import train_test_split\n",
    "from sklearn.linear_model import LinearRegression\n",
    "from sklearn.metrics import mean_squared_error\n",
    "\n",
    "#create dataFrame of CSV\n",
    "df = pd.read_csv(\"Salary_Data-1.csv\")\n",
    "df.head()\n",
    "#df.tail()\n",
    "#df.shape\n",
    "df.columns\n",
    "\n",
    "# Features\n",
    "X = df.iloc[:,0:1]\n",
    "#target variable\n",
    "y = df.iloc[:,-1]\n",
    "\n",
    "# divide the dataset into Train and test data. Divide such a way that Test data would be 20% of the whole data.\n",
    "# Also randomness while dividing the data.\n",
    "# random_state value 6 is selected based on less MSE value. \n",
    "X_train,X_test,y_train,y_test = train_test_split(X,y, test_size=0.2, random_state=6)\n",
    "\n",
    "X_train\n",
    "X_test\n",
    "\n",
    "lr = LinearRegression()\n",
    "\n",
    "lr.fit(X_train,y_train)\n",
    "plt.scatter(df[\"YearsExperience\"],df[\"Salary\"])\n",
    "\n",
    "plt.plot(X_train,lr.predict(X_train),color='red')\n",
    "\n",
    "\n",
    "#Lets predict X_test dataset values which can be used to identify the error. \n",
    "y_pred = lr.predict(X_test)\n",
    "y_test.values\n",
    "print(\"Coefficient value = \" ,lr.coef_)\n",
    "print(\"Intercept value = \",lr.intercept_)\n",
    "# using y_test( Expected value) and y_pred( Actual values) lets find the error value\n",
    "print(\"Mean Square Error = \",mean_squared_error(y_test, y_pred))\n",
    "print(\"Root Mean Square Error = \",np.sqrt(mean_squared_error(y_test,y_pred)))\n",
    "\n",
    "\n",
    "X.info()"
   ]
  },
  {
   "cell_type": "code",
   "execution_count": 89,
   "id": "5d231e35",
   "metadata": {},
   "outputs": [],
   "source": [
    "#Explaination of Que # 3 \n",
    "# Error value represent the difference between actual observed value and expected value.\n",
    "# As error value is non zero mean  \"Salary\" is not just depend on \"YearsExperience\" but on other paramters too. "
   ]
  },
  {
   "cell_type": "code",
   "execution_count": 43,
   "id": "75f2203d-d3b3-449b-aac5-acc4e235311c",
   "metadata": {
    "tags": []
   },
   "outputs": [
    {
     "ename": "ValueError",
     "evalue": "setting an array element with a sequence. The requested array has an inhomogeneous shape after 1 dimensions. The detected shape was (990,) + inhomogeneous part.",
     "output_type": "error",
     "traceback": [
      "\u001b[0;31m---------------------------------------------------------------------------\u001b[0m",
      "\u001b[0;31mValueError\u001b[0m                                Traceback (most recent call last)",
      "Cell \u001b[0;32mIn[43], line 54\u001b[0m\n\u001b[1;32m     50\u001b[0m     plt\u001b[38;5;241m.\u001b[39mshow()\n\u001b[1;32m     51\u001b[0m     \u001b[38;5;28;01mreturn\u001b[39;00m w0,w1\n\u001b[0;32m---> 54\u001b[0m w0, w1 \u001b[38;5;241m=\u001b[39m calculate_gradient(X,y)\n\u001b[1;32m     56\u001b[0m \u001b[38;5;66;03m#print(\"Intercept\",w0)\u001b[39;00m\n\u001b[1;32m     57\u001b[0m \u001b[38;5;66;03m#print(\"Coefficient\",w1)\u001b[39;00m\n\u001b[1;32m     58\u001b[0m \u001b[38;5;28mprint\u001b[39m(\u001b[38;5;124mf\u001b[39m\u001b[38;5;124m\"\u001b[39m\u001b[38;5;124mEstimated Weight: \u001b[39m\u001b[38;5;132;01m{\u001b[39;00mw1\u001b[38;5;132;01m}\u001b[39;00m\u001b[38;5;130;01m\\n\u001b[39;00m\u001b[38;5;124mEstimated Bias: \u001b[39m\u001b[38;5;132;01m{\u001b[39;00mw0\u001b[38;5;132;01m}\u001b[39;00m\u001b[38;5;124m\"\u001b[39m)\n",
      "Cell \u001b[0;32mIn[43], line 45\u001b[0m, in \u001b[0;36mcalculate_gradient\u001b[0;34m(X, Y, itreations, learning_rate, stopping_threshold)\u001b[0m\n\u001b[1;32m     43\u001b[0m \u001b[38;5;66;03m# Visualizing the weights and cost at for all iterations\u001b[39;00m\n\u001b[1;32m     44\u001b[0m plt\u001b[38;5;241m.\u001b[39mfigure(figsize \u001b[38;5;241m=\u001b[39m (\u001b[38;5;241m8\u001b[39m,\u001b[38;5;241m6\u001b[39m))\n\u001b[0;32m---> 45\u001b[0m plt\u001b[38;5;241m.\u001b[39mplot(weights, costs)\n\u001b[1;32m     46\u001b[0m plt\u001b[38;5;241m.\u001b[39mscatter(weights, costs, marker\u001b[38;5;241m=\u001b[39m\u001b[38;5;124m'\u001b[39m\u001b[38;5;124mo\u001b[39m\u001b[38;5;124m'\u001b[39m, color\u001b[38;5;241m=\u001b[39m\u001b[38;5;124m'\u001b[39m\u001b[38;5;124mred\u001b[39m\u001b[38;5;124m'\u001b[39m)\n\u001b[1;32m     47\u001b[0m plt\u001b[38;5;241m.\u001b[39mtitle(\u001b[38;5;124m\"\u001b[39m\u001b[38;5;124mCost vs Weights\u001b[39m\u001b[38;5;124m\"\u001b[39m)\n",
      "File \u001b[0;32m/opt/homebrew/anaconda3/lib/python3.11/site-packages/matplotlib/pyplot.py:2812\u001b[0m, in \u001b[0;36mplot\u001b[0;34m(scalex, scaley, data, *args, **kwargs)\u001b[0m\n\u001b[1;32m   2810\u001b[0m \u001b[38;5;129m@_copy_docstring_and_deprecators\u001b[39m(Axes\u001b[38;5;241m.\u001b[39mplot)\n\u001b[1;32m   2811\u001b[0m \u001b[38;5;28;01mdef\u001b[39;00m \u001b[38;5;21mplot\u001b[39m(\u001b[38;5;241m*\u001b[39margs, scalex\u001b[38;5;241m=\u001b[39m\u001b[38;5;28;01mTrue\u001b[39;00m, scaley\u001b[38;5;241m=\u001b[39m\u001b[38;5;28;01mTrue\u001b[39;00m, data\u001b[38;5;241m=\u001b[39m\u001b[38;5;28;01mNone\u001b[39;00m, \u001b[38;5;241m*\u001b[39m\u001b[38;5;241m*\u001b[39mkwargs):\n\u001b[0;32m-> 2812\u001b[0m     \u001b[38;5;28;01mreturn\u001b[39;00m gca()\u001b[38;5;241m.\u001b[39mplot(\n\u001b[1;32m   2813\u001b[0m         \u001b[38;5;241m*\u001b[39margs, scalex\u001b[38;5;241m=\u001b[39mscalex, scaley\u001b[38;5;241m=\u001b[39mscaley,\n\u001b[1;32m   2814\u001b[0m         \u001b[38;5;241m*\u001b[39m\u001b[38;5;241m*\u001b[39m({\u001b[38;5;124m\"\u001b[39m\u001b[38;5;124mdata\u001b[39m\u001b[38;5;124m\"\u001b[39m: data} \u001b[38;5;28;01mif\u001b[39;00m data \u001b[38;5;129;01mis\u001b[39;00m \u001b[38;5;129;01mnot\u001b[39;00m \u001b[38;5;28;01mNone\u001b[39;00m \u001b[38;5;28;01melse\u001b[39;00m {}), \u001b[38;5;241m*\u001b[39m\u001b[38;5;241m*\u001b[39mkwargs)\n",
      "File \u001b[0;32m/opt/homebrew/anaconda3/lib/python3.11/site-packages/matplotlib/axes/_axes.py:1688\u001b[0m, in \u001b[0;36mAxes.plot\u001b[0;34m(self, scalex, scaley, data, *args, **kwargs)\u001b[0m\n\u001b[1;32m   1445\u001b[0m \u001b[38;5;250m\u001b[39m\u001b[38;5;124;03m\"\"\"\u001b[39;00m\n\u001b[1;32m   1446\u001b[0m \u001b[38;5;124;03mPlot y versus x as lines and/or markers.\u001b[39;00m\n\u001b[1;32m   1447\u001b[0m \n\u001b[0;32m   (...)\u001b[0m\n\u001b[1;32m   1685\u001b[0m \u001b[38;5;124;03m(``'green'``) or hex strings (``'#008000'``).\u001b[39;00m\n\u001b[1;32m   1686\u001b[0m \u001b[38;5;124;03m\"\"\"\u001b[39;00m\n\u001b[1;32m   1687\u001b[0m kwargs \u001b[38;5;241m=\u001b[39m cbook\u001b[38;5;241m.\u001b[39mnormalize_kwargs(kwargs, mlines\u001b[38;5;241m.\u001b[39mLine2D)\n\u001b[0;32m-> 1688\u001b[0m lines \u001b[38;5;241m=\u001b[39m [\u001b[38;5;241m*\u001b[39m\u001b[38;5;28mself\u001b[39m\u001b[38;5;241m.\u001b[39m_get_lines(\u001b[38;5;241m*\u001b[39margs, data\u001b[38;5;241m=\u001b[39mdata, \u001b[38;5;241m*\u001b[39m\u001b[38;5;241m*\u001b[39mkwargs)]\n\u001b[1;32m   1689\u001b[0m \u001b[38;5;28;01mfor\u001b[39;00m line \u001b[38;5;129;01min\u001b[39;00m lines:\n\u001b[1;32m   1690\u001b[0m     \u001b[38;5;28mself\u001b[39m\u001b[38;5;241m.\u001b[39madd_line(line)\n",
      "File \u001b[0;32m/opt/homebrew/anaconda3/lib/python3.11/site-packages/matplotlib/axes/_base.py:311\u001b[0m, in \u001b[0;36m_process_plot_var_args.__call__\u001b[0;34m(self, data, *args, **kwargs)\u001b[0m\n\u001b[1;32m    309\u001b[0m     this \u001b[38;5;241m+\u001b[39m\u001b[38;5;241m=\u001b[39m args[\u001b[38;5;241m0\u001b[39m],\n\u001b[1;32m    310\u001b[0m     args \u001b[38;5;241m=\u001b[39m args[\u001b[38;5;241m1\u001b[39m:]\n\u001b[0;32m--> 311\u001b[0m \u001b[38;5;28;01myield from\u001b[39;00m \u001b[38;5;28mself\u001b[39m\u001b[38;5;241m.\u001b[39m_plot_args(\n\u001b[1;32m    312\u001b[0m     this, kwargs, ambiguous_fmt_datakey\u001b[38;5;241m=\u001b[39mambiguous_fmt_datakey)\n",
      "File \u001b[0;32m/opt/homebrew/anaconda3/lib/python3.11/site-packages/matplotlib/axes/_base.py:493\u001b[0m, in \u001b[0;36m_process_plot_var_args._plot_args\u001b[0;34m(self, tup, kwargs, return_kwargs, ambiguous_fmt_datakey)\u001b[0m\n\u001b[1;32m    490\u001b[0m         kw[prop_name] \u001b[38;5;241m=\u001b[39m val\n\u001b[1;32m    492\u001b[0m \u001b[38;5;28;01mif\u001b[39;00m \u001b[38;5;28mlen\u001b[39m(xy) \u001b[38;5;241m==\u001b[39m \u001b[38;5;241m2\u001b[39m:\n\u001b[0;32m--> 493\u001b[0m     x \u001b[38;5;241m=\u001b[39m _check_1d(xy[\u001b[38;5;241m0\u001b[39m])\n\u001b[1;32m    494\u001b[0m     y \u001b[38;5;241m=\u001b[39m _check_1d(xy[\u001b[38;5;241m1\u001b[39m])\n\u001b[1;32m    495\u001b[0m \u001b[38;5;28;01melse\u001b[39;00m:\n",
      "File \u001b[0;32m/opt/homebrew/anaconda3/lib/python3.11/site-packages/matplotlib/cbook/__init__.py:1348\u001b[0m, in \u001b[0;36m_check_1d\u001b[0;34m(x)\u001b[0m\n\u001b[1;32m   1342\u001b[0m \u001b[38;5;66;03m# plot requires `shape` and `ndim`.  If passed an\u001b[39;00m\n\u001b[1;32m   1343\u001b[0m \u001b[38;5;66;03m# object that doesn't provide them, then force to numpy array.\u001b[39;00m\n\u001b[1;32m   1344\u001b[0m \u001b[38;5;66;03m# Note this will strip unit information.\u001b[39;00m\n\u001b[1;32m   1345\u001b[0m \u001b[38;5;28;01mif\u001b[39;00m (\u001b[38;5;129;01mnot\u001b[39;00m \u001b[38;5;28mhasattr\u001b[39m(x, \u001b[38;5;124m'\u001b[39m\u001b[38;5;124mshape\u001b[39m\u001b[38;5;124m'\u001b[39m) \u001b[38;5;129;01mor\u001b[39;00m\n\u001b[1;32m   1346\u001b[0m         \u001b[38;5;129;01mnot\u001b[39;00m \u001b[38;5;28mhasattr\u001b[39m(x, \u001b[38;5;124m'\u001b[39m\u001b[38;5;124mndim\u001b[39m\u001b[38;5;124m'\u001b[39m) \u001b[38;5;129;01mor\u001b[39;00m\n\u001b[1;32m   1347\u001b[0m         \u001b[38;5;28mlen\u001b[39m(x\u001b[38;5;241m.\u001b[39mshape) \u001b[38;5;241m<\u001b[39m \u001b[38;5;241m1\u001b[39m):\n\u001b[0;32m-> 1348\u001b[0m     \u001b[38;5;28;01mreturn\u001b[39;00m np\u001b[38;5;241m.\u001b[39matleast_1d(x)\n\u001b[1;32m   1349\u001b[0m \u001b[38;5;28;01melse\u001b[39;00m:\n\u001b[1;32m   1350\u001b[0m     \u001b[38;5;28;01mreturn\u001b[39;00m x\n",
      "File \u001b[0;32m<__array_function__ internals>:200\u001b[0m, in \u001b[0;36matleast_1d\u001b[0;34m(*args, **kwargs)\u001b[0m\n",
      "File \u001b[0;32m/opt/homebrew/anaconda3/lib/python3.11/site-packages/numpy/core/shape_base.py:65\u001b[0m, in \u001b[0;36matleast_1d\u001b[0;34m(*arys)\u001b[0m\n\u001b[1;32m     63\u001b[0m res \u001b[38;5;241m=\u001b[39m []\n\u001b[1;32m     64\u001b[0m \u001b[38;5;28;01mfor\u001b[39;00m ary \u001b[38;5;129;01min\u001b[39;00m arys:\n\u001b[0;32m---> 65\u001b[0m     ary \u001b[38;5;241m=\u001b[39m asanyarray(ary)\n\u001b[1;32m     66\u001b[0m     \u001b[38;5;28;01mif\u001b[39;00m ary\u001b[38;5;241m.\u001b[39mndim \u001b[38;5;241m==\u001b[39m \u001b[38;5;241m0\u001b[39m:\n\u001b[1;32m     67\u001b[0m         result \u001b[38;5;241m=\u001b[39m ary\u001b[38;5;241m.\u001b[39mreshape(\u001b[38;5;241m1\u001b[39m)\n",
      "\u001b[0;31mValueError\u001b[0m: setting an array element with a sequence. The requested array has an inhomogeneous shape after 1 dimensions. The detected shape was (990,) + inhomogeneous part."
     ]
    },
    {
     "data": {
      "image/png": "[encoded data removed]",
      "text/plain": [
       "<Figure size 800x600 with 1 Axes>"
      ]
     },
     "metadata": {},
     "output_type": "display_data"
    }
   ],
   "source": [
    "#gradent Descent\n",
    "\n",
    "##Calcualte Cost\n",
    "def calculate_cost(predicted, actual):\n",
    "    return np.sum((predicted - actual)**2)/len(actual);\n",
    "\n",
    " \n",
    "## Gradient function. \n",
    "## here initialize coeficient, intercept\n",
    "def calculate_gradient(X, Y,itreations=990, learning_rate = 0.0001,stopping_threshold = 1e-6):\n",
    "    \n",
    "    w0 = 0.1\n",
    "    w1 = 0.1\n",
    "    prev_cost = None\n",
    "    n = float(len(Y))\n",
    "    costs = []\n",
    "    weights = []\n",
    "    \n",
    "    #iterate through gradient function to find minimum coefficient , intercept\n",
    "    \n",
    "    for i in range(itreations):\n",
    "        #Calculate Y Predict\n",
    "        Y_Predict = w0 + (w1 * X)\n",
    "        #Find the Cost\n",
    "        current_cost = calculate_cost(Y_Predict, Y)\n",
    "        \n",
    "        #here stop the decent if condition is met i.e. previous and current cost differen is less than equal to stopping_threshold\n",
    "        if prev_cost and abs(prev_cost - current_cost) <= stopping_threshold:\n",
    "            print(\"reached threshold\")\n",
    "            break\n",
    "        \n",
    "        \n",
    "        #If error difference is greater than stopping_threshold then continue\n",
    "        \n",
    "        costs.append(current_cost)\n",
    "        weights.append(w1)\n",
    "        #Calculate new w0 by applying gradient function\n",
    "        type(Y_Predict)\n",
    "        type(Y)\n",
    "        w0 = w0 - (learning_rate * (-2/n) *  np.sum(Y_Predict - Y ))\n",
    "        w1 = w1 - (learning_rate * (-2/n) * np.sum(X * (Y_Predict - Y)))\n",
    "    \n",
    "    # Visualizing the weights and cost at for all iterations\n",
    "    plt.figure(figsize = (8,6))\n",
    "    plt.plot(weights, costs)\n",
    "    plt.scatter(weights, costs, marker='o', color='red')\n",
    "    plt.title(\"Cost vs Weights\")\n",
    "    plt.ylabel(\"Cost\")\n",
    "    plt.xlabel(\"Weight\")\n",
    "    plt.show()\n",
    "    return w0,w1\n",
    "\n",
    "\n",
    "w0, w1 = calculate_gradient(X,y)\n",
    "\n",
    "#print(\"Intercept\",w0)\n",
    "#print(\"Coefficient\",w1)\n",
    "print(f\"Estimated Weight: {w1}\\nEstimated Bias: {w0}\")\n",
    "\n",
    "# Making predictions using estimated parameters\n",
    "Y_pred = w1*X + w0\n",
    "       \n",
    "# Plotting the regression line\n",
    "plt.figure(figsize = (8,6))\n",
    "plt.scatter(X, y, marker='o', color='red')\n",
    "#plt.plot([min(X), max(X)], [min(Y_pred), max(Y_pred)], color='blue',markerfacecolor='red', markersize=10,linestyle='dashed')\n",
    "plt.xlabel(\"X\")\n",
    "plt.ylabel(\"Y\")\n",
    "plt.show()\n"
   ]
  }
 ],
 "metadata": {
  "kernelspec": {
   "display_name": "Python 3 (ipykernel)",
   "language": "python",
   "name": "python3"
  },
  "language_info": {
   "codemirror_mode": {
    "name": "ipython",
    "version": 3
   },
   "file_extension": ".py",
   "mimetype": "text/x-python",
   "name": "python",
   "nbconvert_exporter": "python",
   "pygments_lexer": "ipython3",
   "version": "3.11.3"
  }
 },
 "nbformat": 4,
 "nbformat_minor": 5
}
